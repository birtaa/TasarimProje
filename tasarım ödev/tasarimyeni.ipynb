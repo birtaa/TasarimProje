{
 "cells": [
  {
   "cell_type": "code",
   "execution_count": 1,
   "metadata": {},
   "outputs": [],
   "source": [
    "import numpy as np\n",
    "import pandas as pd\n",
    "from sklearn.model_selection import train_test_split\n",
    "from sklearn.preprocessing import StandardScaler\n",
    "from sklearn.neighbors import NearestNeighbors\n",
    "import matplotlib.pyplot as plt\n",
    "import seaborn as sns\n",
    "import ast\n",
    "import tkinter as tk\n",
    "from tkinter import messagebox"
   ]
  },
  {
   "cell_type": "code",
   "execution_count": 2,
   "metadata": {},
   "outputs": [],
   "source": [
    "dataraw = pd.read_csv(\"datas_with_clusters.csv\")"
   ]
  },
  {
   "cell_type": "code",
   "execution_count": 3,
   "metadata": {},
   "outputs": [],
   "source": [
    "def get_knn_recommendations(dataraw, indices, distances):\n",
    "    recommendations = []\n",
    "    for i in range(1, len(indices[0])):\n",
    "        recommendations.append({\n",
    "            \"rank\": i,\n",
    "            \"category\": dataraw.iloc[indices[0][i]]['cluster'],\n",
    "            \"name\": dataraw.iloc[indices[0][i]]['name'],\n",
    "            \"artist\": dataraw.iloc[indices[0][i]]['artists'],\n",
    "            \"distance\": distances[0][i]\n",
    "        })\n",
    "    return recommendations\n",
    "\n",
    "def print_recommendations(recommendations):\n",
    "    for rec in recommendations:\n",
    "        print(f\"{rec['rank']}. En Yakın Komşu: Kategori: {rec['category']}, {rec['name']}, Mesafe: {rec['distance']}\")"
   ]
  },
  {
   "cell_type": "code",
   "execution_count": 4,
   "metadata": {},
   "outputs": [],
   "source": [
    "numerical_cols = ['acousticness', 'danceability', 'energy', 'instrumentalness',\n",
    "                 'speechiness', 'tempo', 'valence', 'popularity']\n",
    "#numerical_cols = ['energy', 'valence' , 'instrumentalness', 'acousticness', 'danceability', 'popularity']"
   ]
  },
  {
   "cell_type": "code",
   "execution_count": 5,
   "metadata": {},
   "outputs": [],
   "source": [
    "data = dataraw[numerical_cols]\n",
    "scaler = StandardScaler()\n",
    "data_scaled = scaler.fit_transform(data)"
   ]
  },
  {
   "cell_type": "code",
   "execution_count": 6,
   "metadata": {},
   "outputs": [
    {
     "data": {
      "text/plain": [
       "NearestNeighbors(n_neighbors=7)"
      ]
     },
     "execution_count": 6,
     "metadata": {},
     "output_type": "execute_result"
    }
   ],
   "source": [
    "knn = NearestNeighbors(n_neighbors=7)  # 5 en yakın komşu\n",
    "knn.fit(data_scaled)"
   ]
  },
  {
   "cell_type": "code",
   "execution_count": 7,
   "metadata": {},
   "outputs": [
    {
     "name": "stdout",
     "output_type": "stream",
     "text": [
      "Cluster 9 artistler:\n",
      "Metallica                140\n",
      "AC/DC                     95\n",
      "Red Hot Chili Peppers     95\n",
      "Queen                     95\n",
      "Led Zeppelin              84\n",
      "Name: artists, dtype: int64\n"
     ]
    }
   ],
   "source": [
    "cluster_1_data = dataraw[dataraw['cluster'] == 9]\n",
    "artists_list = cluster_1_data['artists'].apply(ast.literal_eval).explode()\n",
    "\n",
    "artist_counts = artists_list.value_counts()\n",
    "\n",
    "print(\"Cluster 9 artistler:\")\n",
    "print(artist_counts.head())"
   ]
  },
  {
   "cell_type": "code",
   "execution_count": 8,
   "metadata": {},
   "outputs": [],
   "source": [
    "import tkinter as tk\n",
    "from tkinter import messagebox\n",
    "\n",
    "def get_recommendations():\n",
    "    selected_song = entry.get()\n",
    "    if not selected_song:\n",
    "        messagebox.showwarning(\"Uyarı\", \"Lütfen bir şarkı adı yazın!\")\n",
    "        return\n",
    "\n",
    "    song_index = dataraw[dataraw['name'] == selected_song].index[0]\n",
    "    song_features = data_scaled[song_index].reshape(1, -1)\n",
    "    distances, indices = knn.kneighbors(song_features)\n",
    "    \n",
    "    recommendations = get_knn_recommendations(dataraw, indices, distances)\n",
    "    result_text.delete(1.0, tk.END)\n",
    "    for rec in recommendations:\n",
    "        result_text.insert(tk.END, f\"{rec['rank']}. Sanatçı: {rec['artist']},Şarkı: {rec['name']}, Doğruluk: {1-rec['distance']}\\n\")\n",
    "\n",
    "root = tk.Tk()\n",
    "root.title(\"Şarkı Öneri Sistemi\")\n",
    "\n",
    "frame = tk.Frame(root)\n",
    "frame.pack(pady=20)\n",
    "\n",
    "label = tk.Label(frame, text=\"Şarkı Adı Yazın:\")\n",
    "label.pack(side=tk.LEFT)\n",
    "\n",
    "entry = tk.Entry(frame, width=50)\n",
    "entry.pack(side=tk.LEFT, padx=10)\n",
    "\n",
    "recommend_button = tk.Button(root, text=\"Öneri Getir\", command=get_recommendations)\n",
    "recommend_button.pack(pady=10)\n",
    "\n",
    "result_text = tk.Text(root, height=10, width=80)\n",
    "result_text.pack(pady=10)\n",
    "\n",
    "root.mainloop()"
   ]
  }
 ],
 "metadata": {
  "kernelspec": {
   "display_name": "base",
   "language": "python",
   "name": "python3"
  },
  "language_info": {
   "codemirror_mode": {
    "name": "ipython",
    "version": 3
   },
   "file_extension": ".py",
   "mimetype": "text/x-python",
   "name": "python",
   "nbconvert_exporter": "python",
   "pygments_lexer": "ipython3",
   "version": "3.8.8"
  }
 },
 "nbformat": 4,
 "nbformat_minor": 2
}
